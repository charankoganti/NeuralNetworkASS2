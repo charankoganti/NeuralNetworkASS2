{
  "nbformat": 4,
  "nbformat_minor": 0,
  "metadata": {
    "colab": {
      "provenance": []
    },
    "kernelspec": {
      "name": "python3",
      "display_name": "Python 3"
    },
    "language_info": {
      "name": "python"
    }
  },
  "cells": [
    {
      "cell_type": "code",
      "source": [
        "def string_alternative(input_string):\n",
        "    result = \"\"\n",
        "    for i in range(0, len(input_string), 2):\n",
        "        result += input_string[i]\n",
        "    return result\n",
        "\n",
        "first_name = input(\"Enter your first name: \")\n",
        "last_name = input(\"Enter your last name: \")\n",
        "full_name = first_name + \" \" + last_name\n",
        "\n",
        "alternate_chars = string_alternative(full_name)\n",
        "\n",
        "print(\"Full Name:\", full_name)\n",
        "print(\"Alternate Chars in Full Name:\", alternate_chars)"
      ],
      "metadata": {
        "colab": {
          "base_uri": "https://localhost:8080/"
        },
        "id": "DTgsQy3sjD7s",
        "outputId": "a473d734-2cce-469f-c064-57dbf5a372d1"
      },
      "execution_count": 15,
      "outputs": [
        {
          "output_type": "stream",
          "name": "stdout",
          "text": [
            "Enter your first name: charan \n",
            "Enter your last name: koganti\n",
            "Full Name: charan  koganti\n",
            "Alternate Chars in Full Name: caa kgni\n"
          ]
        }
      ]
    },
    {
      "cell_type": "code",
      "source": [
        "def count_words(line):\n",
        "    words = line.split()\n",
        "    word_count = {}\n",
        "\n",
        "    for word in words:\n",
        "        if word in word_count:\n",
        "            word_count[word] += 1\n",
        "        else:\n",
        "            word_count[word] = 1\n",
        "\n",
        "    return word_count\n",
        "\n",
        "def main():\n",
        "    lines = []\n",
        "    while True:\n",
        "        line = input(\"Enter a line of text (or type 'done' to finish): \")\n",
        "        if line.lower() == 'done':\n",
        "            break\n",
        "        lines.append(line)\n",
        "\n",
        "    print(\"\\nOutput:\")\n",
        "    for line in lines:\n",
        "        print(line)\n",
        "\n",
        "    print(\"Word_Count:\")\n",
        "    word_count = {}\n",
        "    for line in lines:\n",
        "        count = count_words(line)\n",
        "        for word, freq in count.items():\n",
        "            if word in word_count:\n",
        "                word_count[word] += freq\n",
        "            else:\n",
        "                word_count[word] = freq\n",
        "\n",
        "    for word, freq in word_count.items():\n",
        "        print(f\"{word}: {freq}\")\n",
        "\n",
        "if __name__ == \"__main__\":\n",
        "    main()"
      ],
      "metadata": {
        "colab": {
          "base_uri": "https://localhost:8080/"
        },
        "id": "NgxX6-3coZmy",
        "outputId": "71fd6ba8-61e8-48c0-86c6-5c7288560bac"
      },
      "execution_count": 11,
      "outputs": [
        {
          "output_type": "stream",
          "name": "stdout",
          "text": [
            "Enter a line of text (or type 'done' to finish): python programming\n",
            "Enter a line of text (or type 'done' to finish): java programming\n",
            "Enter a line of text (or type 'done' to finish): done\n",
            "\n",
            "Output:\n",
            "python programming\n",
            "java programming\n",
            "Word_Count:\n",
            "python: 1\n",
            "programming: 2\n",
            "java: 1\n"
          ]
        }
      ]
    },
    {
      "cell_type": "code",
      "source": [
        "def convert_to_cm(inches):\n",
        "    return inches * 2.54\n",
        "\n",
        "def main():\n",
        "    num_customers = int(input(\"Enter the number of customers: \"))\n",
        "    heights_in_inches = []\n",
        "\n",
        "    for i in range(num_customers):\n",
        "        height = float(input(f\"Enter the height of customer {i + 1} (inches): \"))\n",
        "        heights_in_inches.append(height)\n",
        "\n",
        "    heights_in_cm = [convert_to_cm(height) for height in heights_in_inches]\n",
        "\n",
        "    print(\"Heights in Centimeters:\", heights_in_cm)\n",
        "\n",
        "if __name__ == \"__main__\":\n",
        "    main()"
      ],
      "metadata": {
        "colab": {
          "base_uri": "https://localhost:8080/"
        },
        "id": "DL7b8H9DpmoY",
        "outputId": "2ebcecb8-1c30-46c9-f69e-7a6396040ea1"
      },
      "execution_count": 22,
      "outputs": [
        {
          "output_type": "stream",
          "name": "stdout",
          "text": [
            "Enter the number of customers: 4\n",
            "Enter the height of customer 1 (inches): 5\n",
            "Enter the height of customer 2 (inches): 67\n",
            "Enter the height of customer 3 (inches): 89\n",
            "Enter the height of customer 4 (inches): 98\n",
            "Heights in Centimeters: [12.7, 170.18, 226.06, 248.92000000000002]\n"
          ]
        }
      ]
    },
    {
      "cell_type": "code",
      "source": [
        "def count_words(line):\n",
        "    words = line.split()\n",
        "    word_count = {}\n",
        "\n",
        "    for word in words:\n",
        "        if word in word_count:\n",
        "            word_count[word] += 1\n",
        "        else:\n",
        "            word_count[word] = 1\n",
        "\n",
        "    return word_count\n",
        "\n",
        "def main():\n",
        "    try:\n",
        "        with open('Input data.txt', 'r') as input_file:\n",
        "            lines = input_file.readlines()\n",
        "\n",
        "        output_lines = [\"Output:\"]\n",
        "        for line in lines:\n",
        "            line = line.strip()\n",
        "            output_lines.append(line)\n",
        "\n",
        "        output_lines.append(\"Word_Count:\")\n",
        "        word_count = {}\n",
        "        for line in lines:\n",
        "            count = count_words(line)\n",
        "            for word, freq in count.items():\n",
        "                if word in word_count:\n",
        "                    word_count[word] += freq\n",
        "                else:\n",
        "                    word_count[word] = freq\n",
        "\n",
        "        for word, freq in word_count.items():\n",
        "            output_lines.append(f\"{word}: {freq}\")\n",
        "\n",
        "        with open('output.txt', 'w') as output_file:\n",
        "            output_file.write('\\n'.join(output_lines))\n",
        "\n",
        "        print(\"Output written to output.txt\")\n",
        "\n",
        "    except FileNotFoundError:\n",
        "        print(\"input_data.txt not found\")\n",
        "\n",
        "if __name__ == \"__main__\":\n",
        "    main()"
      ],
      "metadata": {
        "colab": {
          "base_uri": "https://localhost:8080/"
        },
        "id": "KBc_D3NnS94N",
        "outputId": "6b1405f2-a147-4e02-94dd-487dd73597ae"
      },
      "execution_count": 24,
      "outputs": [
        {
          "output_type": "stream",
          "name": "stdout",
          "text": [
            "Output written to output.txt\n"
          ]
        }
      ]
    }
  ]
}